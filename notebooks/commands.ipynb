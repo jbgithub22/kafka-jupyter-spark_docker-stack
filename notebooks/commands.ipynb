{
 "cells": [
  {
   "cell_type": "markdown",
   "metadata": {},
   "source": [
    "# Kafka"
   ]
  },
  {
   "cell_type": "code",
   "execution_count": null,
   "metadata": {
    "vscode": {
     "languageId": "powershell"
    }
   },
   "outputs": [],
   "source": [
    "// list topics\n",
    "kafka-topics --list --bootstrap-server localhost:9097\n",
    "\n",
    "// read messages in topic\n",
    "kafka-console-consumer --bootstrap-server localhost:9097 --topic test-topic --from-beginning"
   ]
  },
  {
   "cell_type": "markdown",
   "metadata": {},
   "source": [
    "# Spark"
   ]
  },
  {
   "cell_type": "code",
   "execution_count": null,
   "metadata": {
    "vscode": {
     "languageId": "powershell"
    }
   },
   "outputs": [],
   "source": [
    "from pyspark.sql import SparkSession"
   ]
  },
  {
   "cell_type": "code",
   "execution_count": null,
   "metadata": {
    "vscode": {
     "languageId": "powershell"
    }
   },
   "outputs": [],
   "source": [
    "spark = (\n",
    "    SparkSession\n",
    "    .builder\n",
    "    .appName(\"OpenSEA Pipeline\")\n",
    "    .config(\"spark.streaming.stopGracefullyonShutdown\", True)\n",
    "    .config('spark.jars.packages', 'org.apache.spark:spark-sql-kafka-0-10_2.12:3.3.0')\n",
    "    .config(\"spark.sql.shuffle.partitions\", 4)\n",
    "    .master(\"local[*]\")\n",
    "    .getOrCreate()\n",
    ")"
   ]
  },
  {
   "cell_type": "code",
   "execution_count": null,
   "metadata": {
    "vscode": {
     "languageId": "powershell"
    }
   },
   "outputs": [],
   "source": [
    "spark"
   ]
  },
  {
   "cell_type": "code",
   "execution_count": null,
   "metadata": {
    "vscode": {
     "languageId": "powershell"
    }
   },
   "outputs": [],
   "source": [
    "# Retrieve data from kafka topic\n",
    "\n",
    "kafka_df = (\n",
    "    spark\n",
    "    .read\n",
    "    .format(\"kafka\")\n",
    "    .option(\"kafka.bootstrap.servers\", \"os-kafka:9092\")\n",
    "    .option(\"subscribe\", \"test-os_event\")\n",
    "    .option(\"startingOffsets\", \"earliest\")\n",
    "    .load()\n",
    ")"
   ]
  },
  {
   "cell_type": "code",
   "execution_count": null,
   "metadata": {
    "vscode": {
     "languageId": "powershell"
    }
   },
   "outputs": [],
   "source": [
    "# Show kafka topic schema and messages\n",
    "\n",
    "kafka_df.printSchema()\n",
    "kafka_df.show()"
   ]
  },
  {
   "cell_type": "code",
   "execution_count": null,
   "metadata": {
    "vscode": {
     "languageId": "powershell"
    }
   },
   "outputs": [],
   "source": [
    "# Parse value from binary to string into kafka_json_df\n",
    "from pyspark.sql.functions import expr, schema_of_json\n",
    "\n",
    "kafka_json_df = kafka_df.withColumn(\"value\", expr(\"cast(value as string)\"))"
   ]
  },
  {
   "cell_type": "code",
   "execution_count": null,
   "metadata": {
    "vscode": {
     "languageId": "powershell"
    }
   },
   "outputs": [],
   "source": [
    "kafka_json_df.show()"
   ]
  },
  {
   "cell_type": "raw",
   "metadata": {
    "vscode": {
     "languageId": "raw"
    }
   },
   "source": [
    "# Output\n",
    "\n",
    "root\n",
    " |-- key: binary (nullable = true)\n",
    " |-- value: binary (nullable = true)\n",
    " |-- topic: string (nullable = true)\n",
    " |-- partition: integer (nullable = true)\n",
    " |-- offset: long (nullable = true)\n",
    " |-- timestamp: timestamp (nullable = true)\n",
    " |-- timestampType: integer (nullable = true)\n",
    "\n",
    "+----+--------------------+-------------+---------+------+--------------------+-------------+\n",
    "| key|               value|        topic|partition|offset|           timestamp|timestampType|\n",
    "+----+--------------------+-------------+---------+------+--------------------+-------------+\n",
    "|null|[7B 22 65 76 65 6...|test-os_event|        0|     0|2024-08-29 13:46:...|            0|\n",
    "|null|[7B 22 65 76 65 6...|test-os_event|        0|     1|2024-08-29 13:47:...|            0|\n",
    "|null|[7B 22 65 76 65 6...|test-os_event|        0|     2|2024-08-29 13:47:...|            0|\n",
    "|null|[7B 22 65 76 65 6...|test-os_event|        0|     3|2024-08-29 13:47:...|            0|\n",
    "|null|[7B 22 65 76 65 6...|test-os_event|        0|     4|2024-08-29 13:47:...|            0|\n",
    "|null|[7B 22 65 76 65 6...|test-os_event|        0|     5|2024-08-29 13:47:...|            0|\n",
    "|null|[7B 22 65 76 65 6...|test-os_event|        0|     6|2024-08-29 13:47:...|            0|\n",
    "|null|[7B 22 65 76 65 6...|test-os_event|        0|     7|2024-08-29 13:47:...|            0|\n",
    "|null|[7B 22 65 76 65 6...|test-os_event|        0|     8|2024-08-29 13:47:...|            0|\n",
    "|null|[7B 22 65 76 65 6...|test-os_event|        0|     9|2024-08-29 13:47:...|            0|\n",
    "|null|[7B 22 65 76 65 6...|test-os_event|        0|    10|2024-08-29 13:47:...|            0|\n",
    "|null|[7B 22 65 76 65 6...|test-os_event|        0|    11|2024-08-29 13:47:...|            0|\n",
    "|null|[7B 22 65 76 65 6...|test-os_event|        0|    12|2024-08-29 13:47:...|            0|\n",
    "|null|[7B 22 65 76 65 6...|test-os_event|        0|    13|2024-08-29 13:47:...|            0|\n",
    "|null|[7B 22 65 76 65 6...|test-os_event|        0|    14|2024-08-29 13:47:...|            0|\n",
    "|null|[7B 22 65 76 65 6...|test-os_event|        0|    15|2024-08-29 13:47:...|            0|\n",
    "|null|[7B 22 65 76 65 6...|test-os_event|        0|    16|2024-08-29 13:47:...|            0|\n",
    "|null|[7B 22 65 76 65 6...|test-os_event|        0|    17|2024-08-29 13:47:...|            0|\n",
    "|null|[7B 22 65 76 65 6...|test-os_event|        0|    18|2024-08-29 13:47:...|            0|\n",
    "|null|[7B 22 65 76 65 6...|test-os_event|        0|    19|2024-08-29 13:47:...|            0|\n",
    "+----+--------------------+-------------+---------+------+--------------------+-------------+\n",
    "only showing top 20 rows"
   ]
  },
  {
   "cell_type": "code",
   "execution_count": null,
   "metadata": {
    "vscode": {
     "languageId": "powershell"
    }
   },
   "outputs": [],
   "source": [
    "# Do not delete\n",
    "\n",
    "json_schema = schema_of_json(kafka_json_df.select('value').head()[0])\n",
    "json_schema"
   ]
  },
  {
   "cell_type": "code",
   "execution_count": null,
   "metadata": {
    "vscode": {
     "languageId": "powershell"
    }
   },
   "outputs": [],
   "source": [
    "df2 = kafka_json_df.withColumn(\"value\", schema)"
   ]
  },
  {
   "cell_type": "code",
   "execution_count": null,
   "metadata": {
    "vscode": {
     "languageId": "powershell"
    }
   },
   "outputs": [],
   "source": [
    "from pyspark.sql.functions import from_json,col\n",
    "\n",
    "streaming_df = kafka_json_df.withColumn(\"values_json\", from_json(col(\"value\"), json_schema)).selectExpr(\"values_json.*\")"
   ]
  },
  {
   "cell_type": "code",
   "execution_count": null,
   "metadata": {
    "vscode": {
     "languageId": "powershell"
    }
   },
   "outputs": [],
   "source": [
    "streaming_df.printSchema()\n",
    "streaming_df.show(truncate=True)"
   ]
  },
  {
   "cell_type": "raw",
   "metadata": {
    "vscode": {
     "languageId": "raw"
    }
   },
   "source": [
    "# Output\n",
    "\n",
    "root\n",
    " |-- event_type: string (nullable = true)\n",
    " |-- payload: struct (nullable = true)\n",
    " |    |-- chain: string (nullable = true)\n",
    " |    |-- closing_date: string (nullable = true)\n",
    " |    |-- collection: struct (nullable = true)\n",
    " |    |    |-- slug: string (nullable = true)\n",
    " |    |-- event_timestamp: string (nullable = true)\n",
    " |    |-- is_private: boolean (nullable = true)\n",
    " |    |-- item: struct (nullable = true)\n",
    " |    |    |-- chain: struct (nullable = true)\n",
    " |    |    |    |-- name: string (nullable = true)\n",
    " |    |    |-- metadata: struct (nullable = true)\n",
    " |    |    |    |-- animation_url: string (nullable = true)\n",
    " |    |    |    |-- image_url: string (nullable = true)\n",
    " |    |    |    |-- metadata_url: string (nullable = true)\n",
    " |    |    |    |-- name: string (nullable = true)\n",
    " |    |    |-- nft_id: string (nullable = true)\n",
    " |    |    |-- permalink: string (nullable = true)\n",
    " |    |-- listing_type: string (nullable = true)\n",
    " |    |-- maker: struct (nullable = true)\n",
    " |    |    |-- address: string (nullable = true)\n",
    " |    |-- order_hash: string (nullable = true)\n",
    " |    |-- payment_token: struct (nullable = true)\n",
    " |    |    |-- address: string (nullable = true)\n",
    " |    |    |-- decimals: long (nullable = true)\n",
    " |    |    |-- eth_price: string (nullable = true)\n",
    " |    |    |-- name: string (nullable = true)\n",
    " |    |    |-- symbol: string (nullable = true)\n",
    " |    |    |-- usd_price: string (nullable = true)\n",
    " |    |-- protocol_address: string (nullable = true)\n",
    " |    |-- protocol_data: struct (nullable = true)\n",
    " |    |    |-- parameters: struct (nullable = true)\n",
    " |    |    |    |-- conduitKey: string (nullable = true)\n",
    " |    |    |    |-- consideration: array (nullable = true)\n",
    " |    |    |    |    |-- element: struct (containsNull = true)\n",
    " |    |    |    |    |    |-- endAmount: string (nullable = true)\n",
    " |    |    |    |    |    |-- identifierOrCriteria: string (nullable = true)\n",
    " |    |    |    |    |    |-- itemType: long (nullable = true)\n",
    " |    |    |    |    |    |-- recipient: string (nullable = true)\n",
    " |    |    |    |    |    |-- startAmount: string (nullable = true)\n",
    " |    |    |    |    |    |-- token: string (nullable = true)\n",
    " |    |    |    |-- counter: string (nullable = true)\n",
    " |    |    |    |-- endTime: string (nullable = true)\n",
    " |    |    |    |-- offer: array (nullable = true)\n",
    " |    |    |    |    |-- element: struct (containsNull = true)\n",
    " |    |    |    |    |    |-- endAmount: string (nullable = true)\n",
    " |    |    |    |    |    |-- identifierOrCriteria: string (nullable = true)\n",
    " |    |    |    |    |    |-- itemType: long (nullable = true)\n",
    " |    |    |    |    |    |-- startAmount: string (nullable = true)\n",
    " |    |    |    |    |    |-- token: string (nullable = true)\n",
    " |    |    |    |-- offerer: string (nullable = true)\n",
    " |    |    |    |-- orderType: long (nullable = true)\n",
    " |    |    |    |-- salt: string (nullable = true)\n",
    " |    |    |    |-- startTime: string (nullable = true)\n",
    " |    |    |    |-- totalOriginalConsiderationItems: long (nullable = true)\n",
    " |    |    |    |-- zone: string (nullable = true)\n",
    " |    |    |    |-- zoneHash: string (nullable = true)\n",
    " |    |    |-- signature: string (nullable = true)\n",
    " |    |-- quantity: long (nullable = true)\n",
    " |    |-- sale_price: string (nullable = true)\n",
    " |    |-- taker: struct (nullable = true)\n",
    " |    |    |-- address: string (nullable = true)\n",
    " |    |-- transaction: struct (nullable = true)\n",
    " |    |    |-- hash: string (nullable = true)\n",
    " |    |    |-- timestamp: string (nullable = true)\n",
    " |-- sent_at: string (nullable = true)\n",
    "\n",
    "+----------+--------------------+--------------------+\n",
    "|event_type|             payload|             sent_at|\n",
    "+----------+--------------------+--------------------+\n",
    "| item_sold|{ethereum, 2024-0...|2024-08-29T13:46:...|\n",
    "| item_sold|                null|                null|\n",
    "| item_sold|{matic, 2024-08-2...|2024-08-29T13:47:...|\n",
    "| item_sold|{matic, 2024-08-2...|2024-08-29T13:47:...|\n",
    "| item_sold|{base, 2024-08-29...|2024-08-29T13:47:...|\n",
    "| item_sold|{base, 2024-08-29...|2024-08-29T13:47:...|\n",
    "| item_sold|{base, 2024-08-29...|2024-08-29T13:47:...|\n",
    "| item_sold|{matic, 2024-08-2...|2024-08-29T13:47:...|\n",
    "| item_sold|{blast, 2024-08-2...|2024-08-29T13:47:...|\n",
    "| item_sold|{base, 2024-08-29...|2024-08-29T13:47:...|\n",
    "| item_sold|{base, 2024-08-29...|2024-08-29T13:47:...|\n",
    "| item_sold|{ethereum, 2024-0...|2024-08-29T13:47:...|\n",
    "| item_sold|{matic, 2024-08-2...|2024-08-29T13:47:...|\n",
    "| item_sold|{matic, 2024-08-2...|2024-08-29T13:47:...|\n",
    "| item_sold|{matic, 2024-08-2...|2024-08-29T13:47:...|\n",
    "| item_sold|{matic, 2024-08-2...|2024-08-29T13:47:...|\n",
    "| item_sold|{matic, 2024-08-2...|2024-08-29T13:47:...|\n",
    "| item_sold|{matic, 2024-08-2...|2024-08-29T13:47:...|\n",
    "| item_sold|{matic, 2024-08-2...|2024-08-29T13:47:...|\n",
    "| item_sold|{matic, 2024-08-2...|2024-08-29T13:47:...|\n",
    "+----------+--------------------+--------------------+\n",
    "only showing top 20 rows"
   ]
  },
  {
   "cell_type": "code",
   "execution_count": null,
   "metadata": {
    "vscode": {
     "languageId": "powershell"
    }
   },
   "outputs": [],
   "source": [
    "kafka_topic_2 = kafka_json_df.withColumn(\"values_json\", \\\n",
    "                                        from_json(col(\"value\"), \\\n",
    "                                        json_schema)).selectExpr(\n",
    "                                            \"values_json.event_type\", \\\n",
    "                                            \"values_json.payload.collection\"\n",
    ")"
   ]
  }
 ],
 "metadata": {
  "language_info": {
   "name": "python"
  }
 },
 "nbformat": 4,
 "nbformat_minor": 2
}
