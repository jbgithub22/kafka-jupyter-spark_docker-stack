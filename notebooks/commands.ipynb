{
 "cells": [
  {
   "cell_type": "code",
   "execution_count": null,
   "metadata": {
    "vscode": {
     "languageId": "powershell"
    }
   },
   "outputs": [],
   "source": [
    "// list topics\n",
    "kafka-topics --list --bootstrap-server localhost:9097\n",
    "\n",
    "// read messages in topic\n",
    "kafka-console-consumer --bootstrap-server localhost:9097 --topic test-topic --from-beginning"
   ]
  }
 ],
 "metadata": {
  "language_info": {
   "name": "python"
  }
 },
 "nbformat": 4,
 "nbformat_minor": 2
}
