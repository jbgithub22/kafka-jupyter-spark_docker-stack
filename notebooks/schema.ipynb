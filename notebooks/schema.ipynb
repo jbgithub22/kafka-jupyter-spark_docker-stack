{
 "cells": [
  {
   "cell_type": "raw",
   "metadata": {
    "vscode": {
     "languageId": "raw"
    }
   },
   "source": [
    "root\n",
    " |-- payload: struct (nullable = true)\n",
    " |    |-- collection: struct (nullable = true)\n",
    " |    |    |-- slug: string (nullable = true)\n",
    " |    |-- event_timestamp: string (nullable = true)\n",
    " |    |-- item: struct (nullable = true)\n",
    " |    |    |-- chain: struct (nullable = true)\n",
    " |    |    |    |-- name: string (nullable = true)\n",
    " |    |    |-- metadata: struct (nullable = true)\n",
    " |    |    |    |-- image_url: string (nullable = true)\n",
    " |    |    |    |-- metadata_url: string (nullable = true)\n",
    " |    |    |    |-- name: string (nullable = true)\n",
    " |    |    |-- nft_id: string (nullable = true)\n",
    " |    |-- maker: struct (nullable = true)\n",
    " |    |    |-- address: string (nullable = true)\n",
    " |    |-- order_hash: string (nullable = true)\n",
    " |    |-- payment_token: struct (nullable = true)\n",
    " |    |    |-- address: string (nullable = true)\n",
    " |    |    |-- decimals: long (nullable = true)\n",
    " |    |    |-- eth_price: string (nullable = true)\n",
    " |    |    |-- name: string (nullable = true)\n",
    " |    |    |-- symbol: string (nullable = true)\n",
    " |    |    |-- usd_price: string (nullable = true)\n",
    " |    |-- protocol_address: string (nullable = true)\n",
    " |    |-- protocol_data: struct (nullable = true)\n",
    " |    |    |-- parameters: struct (nullable = true)\n",
    " |    |    |    |-- conduitKey: string (nullable = true)\n",
    " |    |    |    |-- consideration: array (nullable = true)\n",
    " |    |    |    |    |-- element: struct (containsNull = true)\n",
    " |    |    |    |    |    |-- endAmount: string (nullable = true)\n",
    " |    |    |    |    |    |-- identifierOrCriteria: string (nullable = true)\n",
    " |    |    |    |    |    |-- itemType: long (nullable = true)\n",
    " |    |    |    |    |    |-- recipient: string (nullable = true)\n",
    " |    |    |    |    |    |-- startAmount: string (nullable = true)\n",
    " |    |    |    |    |    |-- token: string (nullable = true)\n",
    " |    |    |    |-- counter: string (nullable = true)\n",
    " |    |    |    |-- endTime: string (nullable = true)\n",
    " |    |    |    |-- offer: array (nullable = true)\n",
    " |    |    |    |    |-- element: struct (containsNull = true)\n",
    " |    |    |    |    |    |-- endAmount: string (nullable = true)\n",
    " |    |    |    |    |    |-- identifierOrCriteria: string (nullable = true)\n",
    " |    |    |    |    |    |-- itemType: long (nullable = true)\n",
    " |    |    |    |    |    |-- startAmount: string (nullable = true)\n",
    " |    |    |    |    |    |-- token: string (nullable = true)\n",
    " |    |    |    |-- offerer: string (nullable = true)\n",
    " |    |    |    |-- orderType: long (nullable = true)\n",
    " |    |    |    |-- salt: string (nullable = true)\n",
    " |    |    |    |-- startTime: string (nullable = true)\n",
    " |    |    |    |-- totalOriginalConsiderationItems: long (nullable = true)\n",
    " |    |    |    |-- zone: string (nullable = true)\n",
    " |    |    |    |-- zoneHash: string (nullable = true)\n",
    " |    |    |-- signature: string (nullable = true)\n",
    " |    |-- quantity: long (nullable = true)\n",
    " |    |-- sale_price: string (nullable = true)\n",
    " |    |-- taker: struct (nullable = true)\n",
    " |    |    |-- address: string (nullable = true)\n",
    " |    |-- transaction: struct (nullable = true)\n",
    " |    |    |-- hash: string (nullable = true)\n",
    " |    |    |-- timestamp: string (nullable = true)\n",
    " |-- sent_at: string (nullable = true)\n"
   ]
  }
 ],
 "metadata": {
  "language_info": {
   "name": "python"
  }
 },
 "nbformat": 4,
 "nbformat_minor": 2
}
